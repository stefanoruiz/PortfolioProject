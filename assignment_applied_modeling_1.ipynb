{
 "cells": [
  {
   "cell_type": "markdown",
   "metadata": {
    "colab_type": "text",
    "id": "nCc3XZEyG3XV"
   },
   "source": [
    "Lambda School Data Science, Unit 2: Predictive Modeling\n",
    "\n",
    "# Applied Modeling, Module 1\n",
    "\n",
    "You will use your portfolio project dataset for all assignments this sprint.\n",
    "\n",
    "## Assignment\n",
    "\n",
    "Complete these tasks for your project, and document your decisions.\n",
    "\n",
    "- [ ] Choose your target. Which column in your tabular dataset will you predict?\n",
    "- [ ] Choose which observations you will use to train, validate, and test your model. And which observations, if any, to exclude.\n",
    "- [ ] Determine whether your problem is regression or classification.\n",
    "- [ ] Choose your evaluation metric.\n",
    "- [ ] Begin with baselines: majority class baseline for classification, or mean baseline for regression, with your metric of choice.\n",
    "- [ ] Begin to clean and explore your data.\n",
    "- [ ] Begin to choose which features, if any, to exclude. Would some features \"leak\" information from the future?\n",
    "\n",
    "## Reading\n",
    "\n",
    "### ROC AUC\n",
    "- [Machine Learning Meets Economics](http://blog.mldb.ai/blog/posts/2016/01/ml-meets-economics/)\n",
    "- [ROC curves and Area Under the Curve explained](https://www.dataschool.io/roc-curves-and-auc-explained/)\n",
    "- [The philosophical argument for using ROC curves](https://lukeoakdenrayner.wordpress.com/2018/01/07/the-philosophical-argument-for-using-roc-curves/)\n",
    "\n",
    "### Imbalanced Classes\n",
    "- [imbalance-learn](https://github.com/scikit-learn-contrib/imbalanced-learn)\n",
    "- [Learning from Imbalanced Classes](https://www.svds.com/tbt-learning-imbalanced-classes/)\n",
    "\n",
    "### Last lesson\n",
    "- [Attacking discrimination with smarter machine learning](https://research.google.com/bigpicture/attacking-discrimination-in-ml/), by Google Research, with  interactive visualizations. _\"A threshold classifier essentially makes a yes/no decision, putting things in one category or another. We look at how these classifiers work, ways they can potentially be unfair, and how you might turn an unfair classifier into a fairer one. As an illustrative example, we focus on loan granting scenarios where a bank may grant or deny a loan based on a single, automatically computed number such as a credit score.\"_\n",
    "- [How Shopify Capital Uses Quantile Regression To Help Merchants Succeed](https://engineering.shopify.com/blogs/engineering/how-shopify-uses-machine-learning-to-help-our-merchants-grow-their-business)\n",
    "- [Maximizing Scarce Maintenance Resources with Data: Applying predictive modeling, precision at k, and clustering to optimize impact](https://towardsdatascience.com/maximizing-scarce-maintenance-resources-with-data-8f3491133050), by Lambda DS3 student Michael Brady. His blog post extends the Tanzania Waterpumps scenario, far beyond what's in the lecture notebook.\n",
    "- [Notebook about how to calculate expected value from a confusion matrix by treating it as a cost-benefit matrix](https://github.com/podopie/DAT18NYC/blob/master/classes/13-expected_value_cost_benefit_analysis.ipynb)\n",
    "- [Simple guide to confusion matrix terminology](https://www.dataschool.io/simple-guide-to-confusion-matrix-terminology/) by Kevin Markham, with video\n",
    "- [Visualizing Machine Learning Thresholds to Make Better Business Decisions](https://blog.insightdatascience.com/visualizing-machine-learning-thresholds-to-make-better-business-decisions-4ab07f823415)"
   ]
  },
  {
   "cell_type": "markdown",
   "metadata": {},
   "source": [
    "# Transit Systems of the World"
   ]
  },
  {
   "cell_type": "markdown",
   "metadata": {},
   "source": [
    "We will be predicting the future station closures for New York City"
   ]
  },
  {
   "cell_type": "markdown",
   "metadata": {},
   "source": [
    "### Imports"
   ]
  },
  {
   "cell_type": "code",
   "execution_count": null,
   "metadata": {},
   "outputs": [],
   "source": [
    "# !pip install jupyterlab==1.0 \"ipywidgets==7.5\"\n",
    "\n",
    "# If needed install the above. "
   ]
  },
  {
   "cell_type": "code",
   "execution_count": 1,
   "metadata": {},
   "outputs": [],
   "source": [
    "import numpy as np\n",
    "import pandas as pd \n",
    "import matplotlib.pyplot as plt\n",
    "import os \n",
    "import seaborn as sns\n",
    "import pylab as pl\n",
    "import plotly.express as px\n",
    "import plotly.graph_objs as go\n",
    "from plotly.offline import iplot"
   ]
  },
  {
   "cell_type": "markdown",
   "metadata": {},
   "source": [
    "### Loading data"
   ]
  },
  {
   "cell_type": "code",
   "execution_count": 2,
   "metadata": {},
   "outputs": [],
   "source": [
    "cities = pd.read_csv('https://raw.githubusercontent.com/stefanoruiz/datasets/master/transit-systems-of-the-world/cities.csv')\n",
    "lines = pd.read_csv('https://raw.githubusercontent.com/stefanoruiz/datasets/master/transit-systems-of-the-world/lines.csv')\n",
    "station_lines = pd.read_csv('https://raw.githubusercontent.com/stefanoruiz/datasets/master/transit-systems-of-the-world/station_lines.csv')\n",
    "stations = pd.read_csv('https://raw.githubusercontent.com/stefanoruiz/datasets/master/transit-systems-of-the-world/stations.csv')\n",
    "systems = pd.read_csv('https://raw.githubusercontent.com/stefanoruiz/datasets/master/transit-systems-of-the-world/systems.csv')\n",
    "tracklines = pd.read_csv('https://raw.githubusercontent.com/stefanoruiz/datasets/master/transit-systems-of-the-world/track_lines.csv')\n",
    "tracks = pd.read_csv('https://raw.githubusercontent.com/stefanoruiz/datasets/master/transit-systems-of-the-world/tracks.csv')"
   ]
  },
  {
   "cell_type": "markdown",
   "metadata": {},
   "source": [
    "### Data Preprocessing"
   ]
  },
  {
   "cell_type": "markdown",
   "metadata": {},
   "source": [
    "These datasets involve a bit a cleaning. When using *geopandas* or *plotly.mapbox* you need the latitude and longitude to be separate. As is, using *pysal.contrib.viz* mapping feature we could plot without cleaning and separating the data. In this case we will be using Plotly library to plot the station on the map."
   ]
  },
  {
   "cell_type": "code",
   "execution_count": 3,
   "metadata": {},
   "outputs": [],
   "source": [
    "stations.columns=['id','stations_name','geometry','buildstart','opening','closure','city_id']\n",
    "stations['Longitude']=stations['geometry'].apply(lambda x: x.split('POINT(')[1].split(' ')[0])\n",
    "stations['Latitude']=stations['geometry'].apply(lambda x: x.split('POINT(')[1].split(' ')[1].split(')')[0])"
   ]
  },
  {
   "cell_type": "code",
   "execution_count": 4,
   "metadata": {},
   "outputs": [],
   "source": [
    "# Dropping geometry since it is a redundant feature.\n",
    "stations = stations.drop(columns='geometry')\n",
    "\n",
    "id_country = pd.DataFrame({'city_id':cities.id,'country':cities.country,'name':cities.name})\n",
    "stations=pd.merge(stations,id_country)"
   ]
  },
  {
   "cell_type": "code",
   "execution_count": 5,
   "metadata": {},
   "outputs": [
    {
     "data": {
      "text/plain": [
       "id                 int64\n",
       "stations_name     object\n",
       "buildstart       float64\n",
       "opening          float64\n",
       "closure          float64\n",
       "city_id            int64\n",
       "Longitude        float64\n",
       "Latitude         float64\n",
       "country           object\n",
       "name              object\n",
       "dtype: object"
      ]
     },
     "execution_count": 5,
     "metadata": {},
     "output_type": "execute_result"
    }
   ],
   "source": [
    "stations['Latitude'] = stations['Latitude'].astype(str).astype(float)\n",
    "stations['Longitude'] = stations['Longitude'].astype(str).astype(float)\n",
    "\n",
    "stations.dtypes"
   ]
  },
  {
   "cell_type": "code",
   "execution_count": 13,
   "metadata": {},
   "outputs": [
    {
     "data": {
      "text/html": [
       "<div>\n",
       "<style scoped>\n",
       "    .dataframe tbody tr th:only-of-type {\n",
       "        vertical-align: middle;\n",
       "    }\n",
       "\n",
       "    .dataframe tbody tr th {\n",
       "        vertical-align: top;\n",
       "    }\n",
       "\n",
       "    .dataframe thead th {\n",
       "        text-align: right;\n",
       "    }\n",
       "</style>\n",
       "<table border=\"1\" class=\"dataframe\">\n",
       "  <thead>\n",
       "    <tr style=\"text-align: right;\">\n",
       "      <th></th>\n",
       "      <th>id</th>\n",
       "      <th>stations_name</th>\n",
       "      <th>buildstart</th>\n",
       "      <th>opening</th>\n",
       "      <th>closure</th>\n",
       "      <th>city_id</th>\n",
       "      <th>Longitude</th>\n",
       "      <th>Latitude</th>\n",
       "      <th>country</th>\n",
       "      <th>name</th>\n",
       "    </tr>\n",
       "  </thead>\n",
       "  <tbody>\n",
       "    <tr>\n",
       "      <th>15784</th>\n",
       "      <td>13634</td>\n",
       "      <td>Coligny</td>\n",
       "      <td>1998.0</td>\n",
       "      <td>2000.0</td>\n",
       "      <td>999999.0</td>\n",
       "      <td>308</td>\n",
       "      <td>1.900368</td>\n",
       "      <td>47.916025</td>\n",
       "      <td>France</td>\n",
       "      <td>Orleans</td>\n",
       "    </tr>\n",
       "    <tr>\n",
       "      <th>15785</th>\n",
       "      <td>13635</td>\n",
       "      <td>Coligny</td>\n",
       "      <td>1998.0</td>\n",
       "      <td>2000.0</td>\n",
       "      <td>999999.0</td>\n",
       "      <td>308</td>\n",
       "      <td>1.900329</td>\n",
       "      <td>47.916023</td>\n",
       "      <td>France</td>\n",
       "      <td>Orleans</td>\n",
       "    </tr>\n",
       "    <tr>\n",
       "      <th>15786</th>\n",
       "      <td>13636</td>\n",
       "      <td>Gare d'Orléans</td>\n",
       "      <td>1998.0</td>\n",
       "      <td>2000.0</td>\n",
       "      <td>999999.0</td>\n",
       "      <td>308</td>\n",
       "      <td>1.905209</td>\n",
       "      <td>47.906775</td>\n",
       "      <td>France</td>\n",
       "      <td>Orleans</td>\n",
       "    </tr>\n",
       "    <tr>\n",
       "      <th>15787</th>\n",
       "      <td>13632</td>\n",
       "      <td>Gare des Aubrais</td>\n",
       "      <td>1998.0</td>\n",
       "      <td>2000.0</td>\n",
       "      <td>999999.0</td>\n",
       "      <td>308</td>\n",
       "      <td>1.906959</td>\n",
       "      <td>47.926515</td>\n",
       "      <td>France</td>\n",
       "      <td>Orleans</td>\n",
       "    </tr>\n",
       "    <tr>\n",
       "      <th>15788</th>\n",
       "      <td>13633</td>\n",
       "      <td>Gare des Aubrais</td>\n",
       "      <td>1998.0</td>\n",
       "      <td>2000.0</td>\n",
       "      <td>999999.0</td>\n",
       "      <td>308</td>\n",
       "      <td>1.907002</td>\n",
       "      <td>47.926523</td>\n",
       "      <td>France</td>\n",
       "      <td>Orleans</td>\n",
       "    </tr>\n",
       "    <tr>\n",
       "      <th>15789</th>\n",
       "      <td>13637</td>\n",
       "      <td>Gare d'Orléans</td>\n",
       "      <td>1998.0</td>\n",
       "      <td>2000.0</td>\n",
       "      <td>999999.0</td>\n",
       "      <td>308</td>\n",
       "      <td>1.905217</td>\n",
       "      <td>47.906798</td>\n",
       "      <td>France</td>\n",
       "      <td>Orleans</td>\n",
       "    </tr>\n",
       "    <tr>\n",
       "      <th>15790</th>\n",
       "      <td>13638</td>\n",
       "      <td>NaN</td>\n",
       "      <td>1998.0</td>\n",
       "      <td>200.0</td>\n",
       "      <td>999999.0</td>\n",
       "      <td>308</td>\n",
       "      <td>1.902857</td>\n",
       "      <td>47.901442</td>\n",
       "      <td>France</td>\n",
       "      <td>Orleans</td>\n",
       "    </tr>\n",
       "    <tr>\n",
       "      <th>15791</th>\n",
       "      <td>13639</td>\n",
       "      <td>NaN</td>\n",
       "      <td>1998.0</td>\n",
       "      <td>2000.0</td>\n",
       "      <td>999999.0</td>\n",
       "      <td>308</td>\n",
       "      <td>1.902839</td>\n",
       "      <td>47.901058</td>\n",
       "      <td>France</td>\n",
       "      <td>Orleans</td>\n",
       "    </tr>\n",
       "    <tr>\n",
       "      <th>15792</th>\n",
       "      <td>16473</td>\n",
       "      <td>NaN</td>\n",
       "      <td>0.0</td>\n",
       "      <td>0.0</td>\n",
       "      <td>999999.0</td>\n",
       "      <td>72</td>\n",
       "      <td>-2.236667</td>\n",
       "      <td>53.480156</td>\n",
       "      <td>England</td>\n",
       "      <td>Manchester</td>\n",
       "    </tr>\n",
       "    <tr>\n",
       "      <th>15793</th>\n",
       "      <td>16474</td>\n",
       "      <td>NaN</td>\n",
       "      <td>0.0</td>\n",
       "      <td>0.0</td>\n",
       "      <td>999999.0</td>\n",
       "      <td>72</td>\n",
       "      <td>-2.237354</td>\n",
       "      <td>53.480418</td>\n",
       "      <td>England</td>\n",
       "      <td>Manchester</td>\n",
       "    </tr>\n",
       "  </tbody>\n",
       "</table>\n",
       "</div>"
      ],
      "text/plain": [
       "          id     stations_name  buildstart  opening   closure  city_id  \\\n",
       "15784  13634           Coligny      1998.0   2000.0  999999.0      308   \n",
       "15785  13635           Coligny      1998.0   2000.0  999999.0      308   \n",
       "15786  13636    Gare d'Orléans      1998.0   2000.0  999999.0      308   \n",
       "15787  13632  Gare des Aubrais      1998.0   2000.0  999999.0      308   \n",
       "15788  13633  Gare des Aubrais      1998.0   2000.0  999999.0      308   \n",
       "15789  13637    Gare d'Orléans      1998.0   2000.0  999999.0      308   \n",
       "15790  13638               NaN      1998.0    200.0  999999.0      308   \n",
       "15791  13639               NaN      1998.0   2000.0  999999.0      308   \n",
       "15792  16473               NaN         0.0      0.0  999999.0       72   \n",
       "15793  16474               NaN         0.0      0.0  999999.0       72   \n",
       "\n",
       "       Longitude   Latitude  country        name  \n",
       "15784   1.900368  47.916025   France     Orleans  \n",
       "15785   1.900329  47.916023   France     Orleans  \n",
       "15786   1.905209  47.906775   France     Orleans  \n",
       "15787   1.906959  47.926515   France     Orleans  \n",
       "15788   1.907002  47.926523   France     Orleans  \n",
       "15789   1.905217  47.906798   France     Orleans  \n",
       "15790   1.902857  47.901442   France     Orleans  \n",
       "15791   1.902839  47.901058   France     Orleans  \n",
       "15792  -2.236667  53.480156  England  Manchester  \n",
       "15793  -2.237354  53.480418  England  Manchester  "
      ]
     },
     "execution_count": 13,
     "metadata": {},
     "output_type": "execute_result"
    }
   ],
   "source": []
  },
  {
   "cell_type": "markdown",
   "metadata": {},
   "source": [
    "## Visualizing the top 5 stations by city"
   ]
  },
  {
   "cell_type": "code",
   "execution_count": 14,
   "metadata": {},
   "outputs": [
    {
     "data": {
      "image/png": "[encoded data removed]",
      "text/plain": [
       "<Figure size 1296x432 with 1 Axes>"
      ]
     },
     "metadata": {
      "needs_background": "light"
     },
     "output_type": "display_data"
    }
   ],
   "source": [
    "plt.figure(figsize=(18, 6))\n",
    "plt.subplot(1, 2, 1) \n",
    "stations.name.value_counts()[:5].sort_values().plot.barh()\n",
    "plt.title(\"Top 5 city by stations\",size=18)\n",
    "plt.xlabel(\"stations\")\n",
    "\n",
    "plt.show();"
   ]
  },
  {
   "cell_type": "code",
   "execution_count": 15,
   "metadata": {},
   "outputs": [
    {
     "data": {
      "text/html": [
       "<div>\n",
       "<style scoped>\n",
       "    .dataframe tbody tr th:only-of-type {\n",
       "        vertical-align: middle;\n",
       "    }\n",
       "\n",
       "    .dataframe tbody tr th {\n",
       "        vertical-align: top;\n",
       "    }\n",
       "\n",
       "    .dataframe thead th {\n",
       "        text-align: right;\n",
       "    }\n",
       "</style>\n",
       "<table border=\"1\" class=\"dataframe\">\n",
       "  <thead>\n",
       "    <tr style=\"text-align: right;\">\n",
       "      <th></th>\n",
       "      <th>id</th>\n",
       "      <th>stations_name</th>\n",
       "      <th>buildstart</th>\n",
       "      <th>opening</th>\n",
       "      <th>closure</th>\n",
       "      <th>city_id</th>\n",
       "      <th>Longitude</th>\n",
       "      <th>Latitude</th>\n",
       "      <th>country</th>\n",
       "      <th>name</th>\n",
       "    </tr>\n",
       "  </thead>\n",
       "  <tbody>\n",
       "    <tr>\n",
       "      <th>5138</th>\n",
       "      <td>13713</td>\n",
       "      <td>Sands Street</td>\n",
       "      <td>1888.0</td>\n",
       "      <td>1888.0</td>\n",
       "      <td>1944.0</td>\n",
       "      <td>206</td>\n",
       "      <td>-73.990060</td>\n",
       "      <td>40.699996</td>\n",
       "      <td>United States</td>\n",
       "      <td>New York</td>\n",
       "    </tr>\n",
       "    <tr>\n",
       "      <th>5139</th>\n",
       "      <td>13712</td>\n",
       "      <td>Sands Street</td>\n",
       "      <td>1888.0</td>\n",
       "      <td>1888.0</td>\n",
       "      <td>1940.0</td>\n",
       "      <td>206</td>\n",
       "      <td>-73.990920</td>\n",
       "      <td>40.700003</td>\n",
       "      <td>United States</td>\n",
       "      <td>New York</td>\n",
       "    </tr>\n",
       "    <tr>\n",
       "      <th>5140</th>\n",
       "      <td>13715</td>\n",
       "      <td>Franklin Avenue</td>\n",
       "      <td>1896.0</td>\n",
       "      <td>1896.0</td>\n",
       "      <td>99999.0</td>\n",
       "      <td>206</td>\n",
       "      <td>-73.955829</td>\n",
       "      <td>40.680937</td>\n",
       "      <td>United States</td>\n",
       "      <td>New York</td>\n",
       "    </tr>\n",
       "    <tr>\n",
       "      <th>5141</th>\n",
       "      <td>13714</td>\n",
       "      <td>Bedford</td>\n",
       "      <td>1878.0</td>\n",
       "      <td>1878.0</td>\n",
       "      <td>1896.0</td>\n",
       "      <td>206</td>\n",
       "      <td>-73.956053</td>\n",
       "      <td>40.679158</td>\n",
       "      <td>United States</td>\n",
       "      <td>New York</td>\n",
       "    </tr>\n",
       "    <tr>\n",
       "      <th>5142</th>\n",
       "      <td>13717</td>\n",
       "      <td>Dean Street</td>\n",
       "      <td>1896.0</td>\n",
       "      <td>1896.0</td>\n",
       "      <td>1995.0</td>\n",
       "      <td>206</td>\n",
       "      <td>-73.956499</td>\n",
       "      <td>40.677780</td>\n",
       "      <td>United States</td>\n",
       "      <td>New York</td>\n",
       "    </tr>\n",
       "  </tbody>\n",
       "</table>\n",
       "</div>"
      ],
      "text/plain": [
       "         id    stations_name  buildstart  opening  closure  city_id  \\\n",
       "5138  13713     Sands Street      1888.0   1888.0   1944.0      206   \n",
       "5139  13712     Sands Street      1888.0   1888.0   1940.0      206   \n",
       "5140  13715  Franklin Avenue      1896.0   1896.0  99999.0      206   \n",
       "5141  13714          Bedford      1878.0   1878.0   1896.0      206   \n",
       "5142  13717      Dean Street      1896.0   1896.0   1995.0      206   \n",
       "\n",
       "      Longitude   Latitude        country      name  \n",
       "5138 -73.990060  40.699996  United States  New York  \n",
       "5139 -73.990920  40.700003  United States  New York  \n",
       "5140 -73.955829  40.680937  United States  New York  \n",
       "5141 -73.956053  40.679158  United States  New York  \n",
       "5142 -73.956499  40.677780  United States  New York  "
      ]
     },
     "execution_count": 15,
     "metadata": {},
     "output_type": "execute_result"
    }
   ],
   "source": [
    "ny_stations = stations.dropna(subset=['closure','name','opening'])\n",
    "ny_stations = stations[stations.closure>=9999]\n",
    "ny_stations = stations[stations.opening>0]\n",
    "ny_stations = stations[stations.opening<=2030]\n",
    "\n",
    "ny_lines = lines[lines.city_id == 206]\n",
    "ny_tracklines = tracklines[tracklines.city_id == 206]\n",
    "ny_tracks = tracks[tracks.city_id == 206].drop(columns=['buildstart','opening','closure','city_id'])\n",
    "\n",
    "ny_tracks.columns = ['section_id','geometry','length']\n",
    "ny_tracklines = pd.merge(ny_tracklines, ny_tracks)\n",
    "ny_tracklines = ny_tracklines.drop(columns=['id','created_at','updated_at','city_id'])\n",
    "\n",
    "ny_tracklines.columns = ['section_id','id','geometry','length']\n",
    "ny_lines = pd.merge(ny_tracklines, ny_lines)\n",
    "ny_stations = stations[stations['city_id'] == 206]\n",
    "\n",
    "ny_stations.head()\n",
    "\n",
    "\n",
    "\n"
   ]
  },
  {
   "cell_type": "code",
   "execution_count": 17,
   "metadata": {},
   "outputs": [
    {
     "data": {
      "image/png": "[encoded data removed]",
      "text/plain": [
       "<Figure size 1800x1800 with 1 Axes>"
      ]
     },
     "metadata": {
      "needs_background": "light"
     },
     "output_type": "display_data"
    }
   ],
   "source": [
    "x=[]\n",
    "y=[]\n",
    "z=[]\n",
    "\n",
    "for i in range(len(ny_lines)):\n",
    "    sp = ny_lines.iloc[i].geometry.split('(')[1].split(')')[0].split(',')\n",
    "    for j in range(len(sp)):\n",
    "        x.append(sp[j].split(' ')[0])\n",
    "        y.append(sp[j].split(' ')[1])\n",
    "        z.append(ny_lines.url_name[i])\n",
    "\n",
    "plot_lines=pd.DataFrame({'x':x,'y':y,'z':z})\n",
    "plot_lines['x'] = plot_lines['x'].astype(float)\n",
    "plot_lines['y'] = plot_lines['y'].astype(float)\n",
    "\n",
    "plt.figure(figsize=(25, 25))\n",
    "plt.subplot(2, 2, 1) \n",
    "ax=sns.scatterplot(x=\"x\", y=\"y\", hue=\"z\",data=plot_lines)\n",
    "plt.legend(loc=0, bbox_to_anchor=(1.05,0.6))\n",
    "plt.title(\"New York City Train Map\",size=20)\n",
    "ax.get_legend().remove()"
   ]
  },
  {
   "cell_type": "code",
   "execution_count": 26,
   "metadata": {},
   "outputs": [
    {
     "ename": "FileNotFoundError",
     "evalue": "[Errno 2] No such file or directory: '.mapbox_token'",
     "output_type": "error",
     "traceback": [
      "\u001b[0;31m---------------------------------------------------------------------------\u001b[0m",
      "\u001b[0;31mFileNotFoundError\u001b[0m                         Traceback (most recent call last)",
      "\u001b[0;32m<ipython-input-26-b945f862da68>\u001b[0m in \u001b[0;36m<module>\u001b[0;34m\u001b[0m\n\u001b[0;32m----> 1\u001b[0;31m \u001b[0mpx\u001b[0m\u001b[0;34m.\u001b[0m\u001b[0mset_mapbox_access_token\u001b[0m\u001b[0;34m(\u001b[0m\u001b[0mopen\u001b[0m\u001b[0;34m(\u001b[0m\u001b[0;34m\".mapbox_token\"\u001b[0m\u001b[0;34m)\u001b[0m\u001b[0;34m.\u001b[0m\u001b[0mread\u001b[0m\u001b[0;34m(\u001b[0m\u001b[0;34m)\u001b[0m\u001b[0;34m)\u001b[0m\u001b[0;34m\u001b[0m\u001b[0;34m\u001b[0m\u001b[0m\n\u001b[0m\u001b[1;32m      2\u001b[0m \u001b[0mfig\u001b[0m \u001b[0;34m=\u001b[0m \u001b[0mpx\u001b[0m\u001b[0;34m.\u001b[0m\u001b[0mscatter_mapbox\u001b[0m\u001b[0;34m(\u001b[0m\u001b[0mny_stations\u001b[0m\u001b[0;34m,\u001b[0m \u001b[0mlat\u001b[0m\u001b[0;34m=\u001b[0m\u001b[0;34m\"Latitude\"\u001b[0m\u001b[0;34m,\u001b[0m \u001b[0mlon\u001b[0m\u001b[0;34m=\u001b[0m\u001b[0;34m\"Longitude\"\u001b[0m\u001b[0;34m,\u001b[0m \u001b[0mcolor_continuous_scale\u001b[0m\u001b[0;34m=\u001b[0m\u001b[0mpx\u001b[0m\u001b[0;34m.\u001b[0m\u001b[0mcolors\u001b[0m\u001b[0;34m.\u001b[0m\u001b[0mcyclical\u001b[0m\u001b[0;34m.\u001b[0m\u001b[0mIceFire\u001b[0m\u001b[0;34m,\u001b[0m \u001b[0msize_max\u001b[0m\u001b[0;34m=\u001b[0m\u001b[0;36m15\u001b[0m\u001b[0;34m,\u001b[0m \u001b[0mzoom\u001b[0m\u001b[0;34m=\u001b[0m\u001b[0;36m10\u001b[0m\u001b[0;34m)\u001b[0m\u001b[0;34m\u001b[0m\u001b[0;34m\u001b[0m\u001b[0m\n\u001b[1;32m      3\u001b[0m \u001b[0mfig\u001b[0m\u001b[0;34m.\u001b[0m\u001b[0mshow\u001b[0m\u001b[0;34m(\u001b[0m\u001b[0;34m)\u001b[0m\u001b[0;34m\u001b[0m\u001b[0;34m\u001b[0m\u001b[0m\n",
      "\u001b[0;31mFileNotFoundError\u001b[0m: [Errno 2] No such file or directory: '.mapbox_token'"
     ]
    }
   ],
   "source": [
    "# If I ever get a mapbox to work, I'll go ahead and uncomment this. \n",
    "\n",
    "# px.set_mapbox_access_token(open(\".mapbox_token\").read())\n",
    "# fig = px.scatter_mapbox(ny_stations, lat=\"Latitude\", lon=\"Longitude\", color_continuous_scale=px.colors.cyclical.IceFire, size_max=15, zoom=10)\n",
    "# fig.show()"
   ]
  },
  {
   "cell_type": "code",
   "execution_count": 27,
   "metadata": {},
   "outputs": [],
   "source": [
    "from sklearn.model_selection import train_test_split"
   ]
  },
  {
   "cell_type": "code",
   "execution_count": 41,
   "metadata": {},
   "outputs": [],
   "source": [
    "# Target \n",
    "features = ['opening', 'buildstart', 'Longitude', 'Latitude']\n",
    "target = 'closure'\n",
    "\n",
    "X = ny_stations[features]\n",
    "y = ny_stations[target]"
   ]
  },
  {
   "cell_type": "code",
   "execution_count": 42,
   "metadata": {},
   "outputs": [
    {
     "data": {
      "text/html": [
       "<div>\n",
       "<style scoped>\n",
       "    .dataframe tbody tr th:only-of-type {\n",
       "        vertical-align: middle;\n",
       "    }\n",
       "\n",
       "    .dataframe tbody tr th {\n",
       "        vertical-align: top;\n",
       "    }\n",
       "\n",
       "    .dataframe thead th {\n",
       "        text-align: right;\n",
       "    }\n",
       "</style>\n",
       "<table border=\"1\" class=\"dataframe\">\n",
       "  <thead>\n",
       "    <tr style=\"text-align: right;\">\n",
       "      <th></th>\n",
       "      <th>opening</th>\n",
       "      <th>buildstart</th>\n",
       "      <th>Longitude</th>\n",
       "      <th>Latitude</th>\n",
       "    </tr>\n",
       "  </thead>\n",
       "  <tbody>\n",
       "    <tr>\n",
       "      <th>5138</th>\n",
       "      <td>1888.0</td>\n",
       "      <td>1888.0</td>\n",
       "      <td>-73.990060</td>\n",
       "      <td>40.699996</td>\n",
       "    </tr>\n",
       "    <tr>\n",
       "      <th>5139</th>\n",
       "      <td>1888.0</td>\n",
       "      <td>1888.0</td>\n",
       "      <td>-73.990920</td>\n",
       "      <td>40.700003</td>\n",
       "    </tr>\n",
       "    <tr>\n",
       "      <th>5140</th>\n",
       "      <td>1896.0</td>\n",
       "      <td>1896.0</td>\n",
       "      <td>-73.955829</td>\n",
       "      <td>40.680937</td>\n",
       "    </tr>\n",
       "    <tr>\n",
       "      <th>5141</th>\n",
       "      <td>1878.0</td>\n",
       "      <td>1878.0</td>\n",
       "      <td>-73.956053</td>\n",
       "      <td>40.679158</td>\n",
       "    </tr>\n",
       "    <tr>\n",
       "      <th>5142</th>\n",
       "      <td>1896.0</td>\n",
       "      <td>1896.0</td>\n",
       "      <td>-73.956499</td>\n",
       "      <td>40.677780</td>\n",
       "    </tr>\n",
       "  </tbody>\n",
       "</table>\n",
       "</div>"
      ],
      "text/plain": [
       "      opening  buildstart  Longitude   Latitude\n",
       "5138   1888.0      1888.0 -73.990060  40.699996\n",
       "5139   1888.0      1888.0 -73.990920  40.700003\n",
       "5140   1896.0      1896.0 -73.955829  40.680937\n",
       "5141   1878.0      1878.0 -73.956053  40.679158\n",
       "5142   1896.0      1896.0 -73.956499  40.677780"
      ]
     },
     "execution_count": 42,
     "metadata": {},
     "output_type": "execute_result"
    }
   ],
   "source": [
    "X.head()"
   ]
  },
  {
   "cell_type": "code",
   "execution_count": 48,
   "metadata": {},
   "outputs": [],
   "source": [
    "X_trainval, X_test, y_trainval, y_test = train_test_split(X, y, random_state=42)\n",
    "X_train, X_val, y_train, y_val = train_test_split(X_trainval, y_trainval, random_state=42)\n"
   ]
  },
  {
   "cell_type": "code",
   "execution_count": 49,
   "metadata": {},
   "outputs": [
    {
     "name": "stdout",
     "output_type": "stream",
     "text": [
      "X_train shape (645, 4)\n",
      "y_train shape (645,)\n",
      "X_val shape (216, 4)\n",
      "y_val shape (216,)\n",
      "X_test shape (287, 4)\n",
      "y_test shape (287,)\n"
     ]
    }
   ],
   "source": [
    "print('X_train shape', X_train.shape)\n",
    "print('y_train shape', y_train.shape)\n",
    "print('X_val shape', X_val.shape)\n",
    "print('y_val shape', y_val.shape)\n",
    "print('X_test shape', X_test.shape)\n",
    "print('y_test shape', y_test.shape)"
   ]
  },
  {
   "cell_type": "code",
   "execution_count": 50,
   "metadata": {},
   "outputs": [],
   "source": [
    "pd.options.display.float_format = None"
   ]
  },
  {
   "cell_type": "code",
   "execution_count": 54,
   "metadata": {},
   "outputs": [],
   "source": [
    "y_train.value_counts(normalize=True);"
   ]
  },
  {
   "cell_type": "code",
   "execution_count": 60,
   "metadata": {},
   "outputs": [
    {
     "name": "stdout",
     "output_type": "stream",
     "text": [
      "Baseline score:  0.6574074074074074\n"
     ]
    }
   ],
   "source": [
    "import numpy as np\n",
    "from sklearn.metrics import accuracy_score\n",
    "from sklearn.utils.multiclass import unique_labels\n",
    "\n",
    "from sklearn.metrics import confusion_matrix\n",
    "\n",
    "majority_class = y_train.mode()[0]\n",
    "y_pred = np.full_like(y_val, fill_value=majority_class)\n",
    "print('Baseline score: ', accuracy_score(y_val, y_pred))"
   ]
  },
  {
   "cell_type": "code",
   "execution_count": 61,
   "metadata": {},
   "outputs": [],
   "source": []
  },
  {
   "cell_type": "code",
   "execution_count": 64,
   "metadata": {},
   "outputs": [
    {
     "data": {
      "text/plain": [
       "array([[  0,   0,   0,   0,   0,   0,   0,   0,   0,   0,   0,   0,   0,\n",
       "          0,   0,   0,   0,   0,   0,   0,   0,   0,   0,   0,   0,   0,\n",
       "          0,   0,   0,   1],\n",
       "       [  0,   0,   0,   0,   0,   0,   0,   0,   0,   0,   0,   0,   0,\n",
       "          0,   0,   0,   0,   0,   0,   0,   0,   0,   0,   0,   0,   0,\n",
       "          0,   0,   0,   1],\n",
       "       [  0,   0,   0,   0,   0,   0,   0,   0,   0,   0,   0,   0,   0,\n",
       "          0,   0,   0,   0,   0,   0,   0,   0,   0,   0,   0,   0,   0,\n",
       "          0,   0,   0,   1],\n",
       "       [  0,   0,   0,   0,   0,   0,   0,   0,   0,   0,   0,   0,   0,\n",
       "          0,   0,   0,   0,   0,   0,   0,   0,   0,   0,   0,   0,   0,\n",
       "          0,   0,   0,   1],\n",
       "       [  0,   0,   0,   0,   0,   0,   0,   0,   0,   0,   0,   0,   0,\n",
       "          0,   0,   0,   0,   0,   0,   0,   0,   0,   0,   0,   0,   0,\n",
       "          0,   0,   0,   1],\n",
       "       [  0,   0,   0,   0,   0,   0,   0,   0,   0,   0,   0,   0,   0,\n",
       "          0,   0,   0,   0,   0,   0,   0,   0,   0,   0,   0,   0,   0,\n",
       "          0,   0,   0,   4],\n",
       "       [  0,   0,   0,   0,   0,   0,   0,   0,   0,   0,   0,   0,   0,\n",
       "          0,   0,   0,   0,   0,   0,   0,   0,   0,   0,   0,   0,   0,\n",
       "          0,   0,   0,   1],\n",
       "       [  0,   0,   0,   0,   0,   0,   0,   0,   0,   0,   0,   0,   0,\n",
       "          0,   0,   0,   0,   0,   0,   0,   0,   0,   0,   0,   0,   0,\n",
       "          0,   0,   0,   9],\n",
       "       [  0,   0,   0,   0,   0,   0,   0,   0,   0,   0,   0,   0,   0,\n",
       "          0,   0,   0,   0,   0,   0,   0,   0,   0,   0,   0,   0,   0,\n",
       "          0,   0,   0,   5],\n",
       "       [  0,   0,   0,   0,   0,   0,   0,   0,   0,   0,   0,   0,   0,\n",
       "          0,   0,   0,   0,   0,   0,   0,   0,   0,   0,   0,   0,   0,\n",
       "          0,   0,   0,   3],\n",
       "       [  0,   0,   0,   0,   0,   0,   0,   0,   0,   0,   0,   0,   0,\n",
       "          0,   0,   0,   0,   0,   0,   0,   0,   0,   0,   0,   0,   0,\n",
       "          0,   0,   0,   7],\n",
       "       [  0,   0,   0,   0,   0,   0,   0,   0,   0,   0,   0,   0,   0,\n",
       "          0,   0,   0,   0,   0,   0,   0,   0,   0,   0,   0,   0,   0,\n",
       "          0,   0,   0,   1],\n",
       "       [  0,   0,   0,   0,   0,   0,   0,   0,   0,   0,   0,   0,   0,\n",
       "          0,   0,   0,   0,   0,   0,   0,   0,   0,   0,   0,   0,   0,\n",
       "          0,   0,   0,   1],\n",
       "       [  0,   0,   0,   0,   0,   0,   0,   0,   0,   0,   0,   0,   0,\n",
       "          0,   0,   0,   0,   0,   0,   0,   0,   0,   0,   0,   0,   0,\n",
       "          0,   0,   0,   2],\n",
       "       [  0,   0,   0,   0,   0,   0,   0,   0,   0,   0,   0,   0,   0,\n",
       "          0,   0,   0,   0,   0,   0,   0,   0,   0,   0,   0,   0,   0,\n",
       "          0,   0,   0,   7],\n",
       "       [  0,   0,   0,   0,   0,   0,   0,   0,   0,   0,   0,   0,   0,\n",
       "          0,   0,   0,   0,   0,   0,   0,   0,   0,   0,   0,   0,   0,\n",
       "          0,   0,   0,   1],\n",
       "       [  0,   0,   0,   0,   0,   0,   0,   0,   0,   0,   0,   0,   0,\n",
       "          0,   0,   0,   0,   0,   0,   0,   0,   0,   0,   0,   0,   0,\n",
       "          0,   0,   0,  10],\n",
       "       [  0,   0,   0,   0,   0,   0,   0,   0,   0,   0,   0,   0,   0,\n",
       "          0,   0,   0,   0,   0,   0,   0,   0,   0,   0,   0,   0,   0,\n",
       "          0,   0,   0,   1],\n",
       "       [  0,   0,   0,   0,   0,   0,   0,   0,   0,   0,   0,   0,   0,\n",
       "          0,   0,   0,   0,   0,   0,   0,   0,   0,   0,   0,   0,   0,\n",
       "          0,   0,   0,   1],\n",
       "       [  0,   0,   0,   0,   0,   0,   0,   0,   0,   0,   0,   0,   0,\n",
       "          0,   0,   0,   0,   0,   0,   0,   0,   0,   0,   0,   0,   0,\n",
       "          0,   0,   0,   2],\n",
       "       [  0,   0,   0,   0,   0,   0,   0,   0,   0,   0,   0,   0,   0,\n",
       "          0,   0,   0,   0,   0,   0,   0,   0,   0,   0,   0,   0,   0,\n",
       "          0,   0,   0,   1],\n",
       "       [  0,   0,   0,   0,   0,   0,   0,   0,   0,   0,   0,   0,   0,\n",
       "          0,   0,   0,   0,   0,   0,   0,   0,   0,   0,   0,   0,   0,\n",
       "          0,   0,   0,   2],\n",
       "       [  0,   0,   0,   0,   0,   0,   0,   0,   0,   0,   0,   0,   0,\n",
       "          0,   0,   0,   0,   0,   0,   0,   0,   0,   0,   0,   0,   0,\n",
       "          0,   0,   0,   1],\n",
       "       [  0,   0,   0,   0,   0,   0,   0,   0,   0,   0,   0,   0,   0,\n",
       "          0,   0,   0,   0,   0,   0,   0,   0,   0,   0,   0,   0,   0,\n",
       "          0,   0,   0,   1],\n",
       "       [  0,   0,   0,   0,   0,   0,   0,   0,   0,   0,   0,   0,   0,\n",
       "          0,   0,   0,   0,   0,   0,   0,   0,   0,   0,   0,   0,   0,\n",
       "          0,   0,   0,   3],\n",
       "       [  0,   0,   0,   0,   0,   0,   0,   0,   0,   0,   0,   0,   0,\n",
       "          0,   0,   0,   0,   0,   0,   0,   0,   0,   0,   0,   0,   0,\n",
       "          0,   0,   0,   1],\n",
       "       [  0,   0,   0,   0,   0,   0,   0,   0,   0,   0,   0,   0,   0,\n",
       "          0,   0,   0,   0,   0,   0,   0,   0,   0,   0,   0,   0,   0,\n",
       "          0,   0,   0,   2],\n",
       "       [  0,   0,   0,   0,   0,   0,   0,   0,   0,   0,   0,   0,   0,\n",
       "          0,   0,   0,   0,   0,   0,   0,   0,   0,   0,   0,   0,   0,\n",
       "          0,   0,   0,   2],\n",
       "       [  0,   0,   0,   0,   0,   0,   0,   0,   0,   0,   0,   0,   0,\n",
       "          0,   0,   0,   0,   0,   0,   0,   0,   0,   0,   0,   0,   0,\n",
       "          0,   0,   0,   1],\n",
       "       [  0,   0,   0,   0,   0,   0,   0,   0,   0,   0,   0,   0,   0,\n",
       "          0,   0,   0,   0,   0,   0,   0,   0,   0,   0,   0,   0,   0,\n",
       "          0,   0,   0, 142]])"
      ]
     },
     "execution_count": 64,
     "metadata": {},
     "output_type": "execute_result"
    }
   ],
   "source": [
    "confusion_matrix(y_val, y_pred)"
   ]
  },
  {
   "cell_type": "code",
   "execution_count": null,
   "metadata": {},
   "outputs": [],
   "source": []
  }
 ],
 "metadata": {
  "colab": {
   "collapsed_sections": [],
   "name": "assignment_applied_modeling_1.ipynb",
   "provenance": [],
   "version": "0.3.2"
  },
  "kernelspec": {
   "display_name": "Python 3",
   "language": "python",
   "name": "python3"
  },
  "language_info": {
   "codemirror_mode": {
    "name": "ipython",
    "version": 3
   },
   "file_extension": ".py",
   "mimetype": "text/x-python",
   "name": "python",
   "nbconvert_exporter": "python",
   "pygments_lexer": "ipython3",
   "version": "3.7.4"
  }
 },
 "nbformat": 4,
 "nbformat_minor": 4
}
